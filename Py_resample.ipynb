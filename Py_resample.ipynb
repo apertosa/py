{
 "metadata": {
  "name": ""
 },
 "nbformat": 3,
 "nbformat_minor": 0,
 "worksheets": [
  {
   "cells": [
    {
     "cell_type": "code",
     "collapsed": false,
     "input": [
      "#%matplotlib inline"
     ],
     "language": "python",
     "metadata": {},
     "outputs": [],
     "prompt_number": 75
    },
    {
     "cell_type": "code",
     "collapsed": false,
     "input": [
      "import numpy as np\n",
      "import matplotlib.pyplot as plt\n",
      "from scipy import interpolate"
     ],
     "language": "python",
     "metadata": {},
     "outputs": [],
     "prompt_number": 76
    },
    {
     "cell_type": "heading",
     "level": 2,
     "metadata": {},
     "source": [
      "Open and Parse the file"
     ]
    },
    {
     "cell_type": "code",
     "collapsed": false,
     "input": [
      "amplitude, freq, k_mag, loss_angle, offset, preload\t = np.loadtxt(r'amp1.spd', skiprows=1, unpack=True)"
     ],
     "language": "python",
     "metadata": {},
     "outputs": [],
     "prompt_number": 77
    },
    {
     "cell_type": "heading",
     "level": 2,
     "metadata": {},
     "source": [
      "Define interpolation"
     ]
    },
    {
     "cell_type": "code",
     "collapsed": false,
     "input": [
      "# amplitude \n",
      "s = interpolate.interp1d(freq, k_mag, kind='cubic')\n",
      "# loss angle \n",
      "t = interpolate.interp1d(freq, loss_angle, kind='cubic')"
     ],
     "language": "python",
     "metadata": {},
     "outputs": [],
     "prompt_number": 78
    },
    {
     "cell_type": "heading",
     "level": 2,
     "metadata": {},
     "source": [
      "Generate New Values"
     ]
    },
    {
     "cell_type": "code",
     "collapsed": false,
     "input": [
      "s1 = 10 # interpolating frequency\n",
      "f1 = np.arange(freq[0], freq[-1], s1)\n",
      "k1 = s(f1)\n",
      "l1 = t(f1)\n",
      "\n",
      "s2 = 5\n",
      "f2 = np.arange(freq[0], freq[-1], s2)\n",
      "k2 = s(f2)\n",
      "l2 = t(f2)"
     ],
     "language": "python",
     "metadata": {},
     "outputs": [],
     "prompt_number": 86
    },
    {
     "cell_type": "heading",
     "level": 2,
     "metadata": {},
     "source": [
      "Plot"
     ]
    },
    {
     "cell_type": "code",
     "collapsed": false,
     "input": [
      "# 10 Hz plots\n",
      "plt.figure(10)\n",
      "plt.subplot(211)\n",
      "plt.plot(freq, k_mag, 'g^', f1, k1,'ro')\n",
      "plt.legend(['Original K_mag Values', str(s1)+' Hz sampling', 'True']).draggable()\n",
      "\n",
      "plt.subplot(212)\n",
      "plt.plot(freq, loss_angle, 'g^', f1, l1, 'ro')\n",
      "plt.legend(['Original Loss_angle Values', str(s1)+' Hz sampling', 'True']).draggable()\n",
      "\n",
      "plt.figure(11)\n",
      "\n",
      "plt.subplot(212)\n",
      "plt.plot(freq, k_mag, 'g^', f2, k2,'ro')\n",
      "plt.legend(['Original K_mag Values', str(s2)+' Hz sampling', 'True']).draggable()\n",
      "\n",
      "plt.subplot(211)\n",
      "plt.plot(freq, loss_angle, 'g^', f2, l2, 'ro')\n",
      "plt.legend(['Original Loss_angle Values', str(s2)+' Hz sampling (10)', 'True']).draggable()\n",
      "\n",
      "plt.show()"
     ],
     "language": "python",
     "metadata": {},
     "outputs": [],
     "prompt_number": 89
    },
    {
     "cell_type": "heading",
     "level": 3,
     "metadata": {},
     "source": [
      "Export File"
     ]
    },
    {
     "cell_type": "code",
     "collapsed": false,
     "input": [
      "# \n",
      "dimension1 = len(f1)\n",
      "# data\n",
      "a1 = amplitude[0:dimension]\n",
      "o1 = offset[0:dimension]\n",
      "p1 = preload[0:dimension]\n",
      "\n",
      "#\n",
      "dimension2 = len(f2)\n",
      "a2 = amplitude[0:dimension]\n",
      "o2 = offset[0:dimension]\n",
      "p2 = preload[0:dimension]\n",
      "#\n",
      "# amplitude freq k_mag loss_angle offset preload \n",
      "lines = a1, f1, k1, o1, p1\n",
      "\n",
      "# note that we flip the line and write the file in one GO\n",
      "np.savetxt('output_file.spd', zip(*lines), fmt='%10.5f', delimiter = ' ' )"
     ],
     "language": "python",
     "metadata": {},
     "outputs": [],
     "prompt_number": 81
    },
    {
     "cell_type": "code",
     "collapsed": false,
     "input": [
      "output_file.close()"
     ],
     "language": "python",
     "metadata": {},
     "outputs": [],
     "prompt_number": 82
    },
    {
     "cell_type": "code",
     "collapsed": false,
     "input": [],
     "language": "python",
     "metadata": {},
     "outputs": [],
     "prompt_number": 82
    },
    {
     "cell_type": "code",
     "collapsed": false,
     "input": [],
     "language": "python",
     "metadata": {},
     "outputs": []
    }
   ],
   "metadata": {}
  }
 ]
}